{
 "cells": [
  {
   "cell_type": "markdown",
   "id": "f282e073-4210-4cc0-a22a-e2acf95f0ece",
   "metadata": {},
   "source": [
    "# Use components to prescribe existing curvilinear files"
   ]
  },
  {
   "cell_type": "code",
   "execution_count": 1,
   "id": "6c7aae0b-a773-4f17-8d2f-a51a8d7c43b4",
   "metadata": {},
   "outputs": [],
   "source": [
    "# Note that the same name CURVILINEAR has been defined for cgrid and inpgrid components\n",
    "# We may want to change that but for now they are assigned with different names when imported\n",
    "\n",
    "from rompy.swan.components.cgrid import CURVILINEAR as CGRID\n",
    "from rompy.swan.components.inpgrid import CURVILINEAR as INPGRID\n",
    "from rompy.swan.subcomponents.readgrid import READINP, READCOORD\n",
    "from rompy.swan.subcomponents.spectrum import SPECTRUM"
   ]
  },
  {
   "cell_type": "markdown",
   "id": "0dc1e219-52c0-408d-95c2-abbf58d6685c",
   "metadata": {},
   "source": [
    "## Define CGRID\n",
    "\n",
    "CGRID is currently prescribed as a \"group component\" that renders both **CGRID** and **READCOORD** (READCOORD is actually currently defined as a \"subcomponent\" in the code but that should be changed)"
   ]
  },
  {
   "cell_type": "code",
   "execution_count": 2,
   "id": "8100c010-ddbd-48ad-933a-c8f83e30b7a6",
   "metadata": {},
   "outputs": [],
   "source": [
    "# Uncomment below to check the args\n",
    "\n",
    "# CGRID??"
   ]
  },
  {
   "cell_type": "markdown",
   "id": "5c0b3236-474c-4320-87ac-49d47d693d71",
   "metadata": {},
   "source": [
    "### Required subcomponents:\n",
    "\n",
    "- SPECTRUM\n",
    "- READCOORD"
   ]
  },
  {
   "cell_type": "code",
   "execution_count": 3,
   "id": "f1d0c97e-13ed-453b-95ff-d633f85b2bcc",
   "metadata": {},
   "outputs": [],
   "source": [
    "# Uncomment below to check the args\n",
    "\n",
    "# SPECTRUM??"
   ]
  },
  {
   "cell_type": "code",
   "execution_count": 4,
   "id": "02b7e3fa-4467-461a-8a09-b94c66560af8",
   "metadata": {},
   "outputs": [
    {
     "name": "stdout",
     "output_type": "stream",
     "text": [
      "CIRCLE mdc=36 flow=0.04 fhigh=0.4\n"
     ]
    }
   ],
   "source": [
    "spectrum = SPECTRUM(\n",
    "    mdc=36,\n",
    "    flow=0.04,\n",
    "    fhigh=0.4\n",
    ")\n",
    "print(spectrum.render())"
   ]
  },
  {
   "cell_type": "code",
   "execution_count": 5,
   "id": "47cd1a9e-8d1f-49a2-be31-218f6ef18cf4",
   "metadata": {},
   "outputs": [],
   "source": [
    "# Uncomment below to check the args\n",
    "\n",
    "# READCOORD??"
   ]
  },
  {
   "cell_type": "code",
   "execution_count": 6,
   "id": "13f11bb9-884e-42fe-92cd-07a9e5cb6c4e",
   "metadata": {},
   "outputs": [
    {
     "name": "stdout",
     "output_type": "stream",
     "text": [
      "READGRID COORDINATES fac=1.0 fname='./coords.txt' idla=3 nhedf=0 nhedvec=0 FREE\n"
     ]
    }
   ],
   "source": [
    "readcoord = READCOORD(\n",
    "    fac=1.0,\n",
    "    idla=3,\n",
    "    fname=\"./coords.txt\",\n",
    ")\n",
    "print(readcoord.render())"
   ]
  },
  {
   "cell_type": "code",
   "execution_count": 8,
   "id": "5059af97-295d-4348-baf0-845588076c2b",
   "metadata": {},
   "outputs": [
    {
     "name": "stdout",
     "output_type": "stream",
     "text": [
      "CGRID CURVILINEAR mxc=100 myc=100 CIRCLE mdc=36 flow=0.04 fhigh=0.4\n",
      "READGRID COORDINATES fac=1.0 fname='./coords.txt' idla=3 nhedf=0 nhedvec=0 FREE\n"
     ]
    }
   ],
   "source": [
    "cgrid = CGRID(\n",
    "    model_type='curvilinear',\n",
    "    spectrum=spectrum,\n",
    "    mxc=100,\n",
    "    myc=100,\n",
    "    readcoord=readcoord,\n",
    ")\n",
    "print(cgrid.render())"
   ]
  },
  {
   "cell_type": "markdown",
   "id": "ddbab6bf-5205-49fd-994d-696276da1aff",
   "metadata": {},
   "source": [
    "## Define INPGRID\n",
    "\n",
    "INPGRID is currently prescribed as a \"group component\" that renders both **INPGRID** and **READINP** (READINP is actually currently defined as a \"subcomponent\" in the code but that should be changed)"
   ]
  },
  {
   "cell_type": "code",
   "execution_count": 9,
   "id": "f84bff67-de85-4b36-9226-8498a7502ce4",
   "metadata": {},
   "outputs": [],
   "source": [
    "# Uncomment below to check the args\n",
    "\n",
    "# INPGRID??"
   ]
  },
  {
   "cell_type": "markdown",
   "id": "a3c290f1-d1aa-4760-b6b3-b9884bca8745",
   "metadata": {},
   "source": [
    "### Required subcomponents:\n",
    "\n",
    "- READINP\n",
    "- NONSTATIONARY (only if time-dependent grids)"
   ]
  },
  {
   "cell_type": "code",
   "execution_count": 10,
   "id": "cb51cbc6-555d-4ca1-aefb-9be85ff9d6bc",
   "metadata": {},
   "outputs": [],
   "source": [
    "# Uncomment below to check the args\n",
    "\n",
    "# READINP??"
   ]
  },
  {
   "cell_type": "code",
   "execution_count": 11,
   "id": "898f613f-894c-4094-a8e0-d8e2bdd58780",
   "metadata": {},
   "outputs": [
    {
     "name": "stdout",
     "output_type": "stream",
     "text": [
      "READINP UNDEFINED fac=1.0 fname1='./bottom.txt' idla=3 nhedf=0 nhedt=0 nhedvec=0 FREE\n"
     ]
    }
   ],
   "source": [
    "# Notice the \"grid_type\" argument can be ignored here as it will be set within INPGRID\n",
    "\n",
    "readinp = READINP(\n",
    "    fac=1.0,\n",
    "    idla=3,\n",
    "    fname1=\"./bottom.txt\"\n",
    ")\n",
    "print(readinp.render())"
   ]
  },
  {
   "cell_type": "code",
   "execution_count": 12,
   "id": "2490f0ea-bb41-4b74-bb0c-cc150747f79c",
   "metadata": {},
   "outputs": [
    {
     "name": "stdout",
     "output_type": "stream",
     "text": [
      "INPGRID BOTTOM CURVILINEAR stagrx=0.0 stagry=0.0 mxinp=100 myinp=100  EXCEPTION excval=-999.0\n",
      "READINP BOTTOM fac=1.0 fname1='./bottom.txt' idla=3 nhedf=0 nhedt=0 nhedvec=0 FREE\n"
     ]
    }
   ],
   "source": [
    "inpgrid = INPGRID(\n",
    "    grid_type=\"bottom\",\n",
    "    excval=-999.0,\n",
    "    readinp=readinp,\n",
    "    stagrx=0.0,\n",
    "    stagry=0.0,\n",
    "    mxinp=100,\n",
    "    myinp=100,\n",
    ")\n",
    "print(inpgrid.render())"
   ]
  },
  {
   "cell_type": "markdown",
   "id": "d2775143-c301-43ac-8a07-11695bd96da2",
   "metadata": {},
   "source": [
    "### Let's take this example and assume the config in a dict read from a yaml file"
   ]
  },
  {
   "cell_type": "code",
   "execution_count": 13,
   "id": "6301c63f-7117-4e62-87ca-42616f1944ee",
   "metadata": {},
   "outputs": [
    {
     "name": "stdout",
     "output_type": "stream",
     "text": [
      "INPGRID BOTTOM CURVILINEAR stagrx=0.0 stagry=0.0 mxinp=100 myinp=100  EXCEPTION excval=-999.0\n",
      "READINP BOTTOM fac=1.0 fname1='./bottom.txt' idla=3 nhedf=0 nhedt=0 nhedvec=0 FREE\n"
     ]
    }
   ],
   "source": [
    "config = {\n",
    "    \"model_type\": \"curvilinear\",\n",
    "    \"grid_type\": \"bottom\",\n",
    "    \"excval\": -999.0,\n",
    "    \"readinp\": {\n",
    "        \"model_type\": \"readinp\",\n",
    "        \"fac\": 1.0,\n",
    "        \"idla\": 3,\n",
    "        \"fname1\": \"./bottom.txt\",\n",
    "    },\n",
    "    \"stagrx\": 0.0,\n",
    "    \"stagry\": 0.0,\n",
    "    \"mxinp\": 100,\n",
    "    \"myinp\": 100,\n",
    "}\n",
    "\n",
    "inpgrid = INPGRID(**config)\n",
    "print(inpgrid.render())"
   ]
  }
 ],
 "metadata": {
  "kernelspec": {
   "display_name": "rompy1",
   "language": "python",
   "name": "rompy1"
  },
  "language_info": {
   "codemirror_mode": {
    "name": "ipython",
    "version": 3
   },
   "file_extension": ".py",
   "mimetype": "text/x-python",
   "name": "python",
   "nbconvert_exporter": "python",
   "pygments_lexer": "ipython3",
   "version": "3.10.6"
  }
 },
 "nbformat": 4,
 "nbformat_minor": 5
}
