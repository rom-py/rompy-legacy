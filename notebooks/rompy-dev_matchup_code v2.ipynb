{
 "cells": [
  {
   "cell_type": "markdown",
   "id": "dutch-offer",
   "metadata": {},
   "source": [
    "# Developing match up function v2\n",
    "\n",
    "- Move to a 1D model output"
   ]
  },
  {
   "cell_type": "code",
   "execution_count": 1,
   "id": "responsible-recommendation",
   "metadata": {},
   "outputs": [
    {
     "data": {
      "text/plain": [
       "<xarray.core.options.set_options at 0x7f2a49ae9f70>"
      ]
     },
     "execution_count": 1,
     "metadata": {},
     "output_type": "execute_result"
    }
   ],
   "source": [
    "import xarray as xr\n",
    "import numpy as np\n",
    "import matplotlib.pyplot as plt\n",
    "import pandas as pd\n",
    "import rompy\n",
    "from shapely.geometry import MultiPoint,Point\n",
    "%matplotlib inline\n",
    "\n",
    "xr.set_options(display_style = 'text')"
   ]
  },
  {
   "cell_type": "code",
   "execution_count": 2,
   "id": "light-marker",
   "metadata": {},
   "outputs": [
    {
     "name": "stderr",
     "output_type": "stream",
     "text": [
      "/tmp/ipykernel_109801/3533311998.py:11: SettingWithCopyWarning: \n",
      "A value is trying to be set on a copy of a slice from a DataFrame.\n",
      "Try using .loc[row_indexer,col_indexer] = value instead\n",
      "\n",
      "See the caveats in the documentation: https://pandas.pydata.org/pandas-docs/stable/user_guide/indexing.html#returning-a-view-versus-a-copy\n",
      "  obs['TIME'] =  pd.to_datetime(obs['TIME'])\n"
     ]
    },
    {
     "data": {
      "text/html": [
       "<pre>&lt;xarray.Dataset&gt;\n",
       "Dimensions:    (time: 121, longitude: 160, latitude: 300)\n",
       "Coordinates:\n",
       "  * time       (time) datetime64[ns] 2021-02-01 ... 2021-02-06\n",
       "  * longitude  (longitude) float32 115.0 115.0 115.0 115.0 ... 115.8 115.8 115.8\n",
       "  * latitude   (latitude) float32 -33.0 -32.99 -32.99 ... -31.51 -31.51 -31.5\n",
       "Data variables:\n",
       "    depth      (time, latitude, longitude) float32 dask.array&lt;chunksize=(24, 300, 160), meta=np.ndarray&gt;\n",
       "    ubot       (time, latitude, longitude) float32 dask.array&lt;chunksize=(24, 300, 160), meta=np.ndarray&gt;\n",
       "    hs         (time, latitude, longitude) float32 dask.array&lt;chunksize=(24, 300, 160), meta=np.ndarray&gt;\n",
       "    hswe       (time, latitude, longitude) float32 dask.array&lt;chunksize=(24, 300, 160), meta=np.ndarray&gt;\n",
       "    theta0     (time, latitude, longitude) float32 dask.array&lt;chunksize=(24, 300, 160), meta=np.ndarray&gt;\n",
       "    tps        (time, latitude, longitude) float32 dask.array&lt;chunksize=(24, 300, 160), meta=np.ndarray&gt;\n",
       "    tm01       (time, latitude, longitude) float32 dask.array&lt;chunksize=(24, 300, 160), meta=np.ndarray&gt;\n",
       "    xwnd       (time, latitude, longitude) float32 dask.array&lt;chunksize=(24, 300, 160), meta=np.ndarray&gt;\n",
       "    ywnd       (time, latitude, longitude) float32 dask.array&lt;chunksize=(24, 300, 160), meta=np.ndarray&gt;\n",
       "Attributes:\n",
       "    Conventions:                     CF-1.5\n",
       "    History:                         Created with agioncmd version 1.5\n",
       "    Directional_convention:          nautical\n",
       "    project:                         SWAN\n",
       "    run:                             \n",
       "    DODS_EXTRA.Unlimited_Dimension:  time</pre>"
      ],
      "text/plain": [
       "<xarray.Dataset>\n",
       "Dimensions:    (time: 121, longitude: 160, latitude: 300)\n",
       "Coordinates:\n",
       "  * time       (time) datetime64[ns] 2021-02-01 ... 2021-02-06\n",
       "  * longitude  (longitude) float32 115.0 115.0 115.0 115.0 ... 115.8 115.8 115.8\n",
       "  * latitude   (latitude) float32 -33.0 -32.99 -32.99 ... -31.51 -31.51 -31.5\n",
       "Data variables:\n",
       "    depth      (time, latitude, longitude) float32 dask.array<chunksize=(24, 300, 160), meta=np.ndarray>\n",
       "    ubot       (time, latitude, longitude) float32 dask.array<chunksize=(24, 300, 160), meta=np.ndarray>\n",
       "    hs         (time, latitude, longitude) float32 dask.array<chunksize=(24, 300, 160), meta=np.ndarray>\n",
       "    hswe       (time, latitude, longitude) float32 dask.array<chunksize=(24, 300, 160), meta=np.ndarray>\n",
       "    theta0     (time, latitude, longitude) float32 dask.array<chunksize=(24, 300, 160), meta=np.ndarray>\n",
       "    tps        (time, latitude, longitude) float32 dask.array<chunksize=(24, 300, 160), meta=np.ndarray>\n",
       "    tm01       (time, latitude, longitude) float32 dask.array<chunksize=(24, 300, 160), meta=np.ndarray>\n",
       "    xwnd       (time, latitude, longitude) float32 dask.array<chunksize=(24, 300, 160), meta=np.ndarray>\n",
       "    ywnd       (time, latitude, longitude) float32 dask.array<chunksize=(24, 300, 160), meta=np.ndarray>\n",
       "Attributes:\n",
       "    Conventions:                     CF-1.5\n",
       "    History:                         Created with agioncmd version 1.5\n",
       "    Directional_convention:          nautical\n",
       "    project:                         SWAN\n",
       "    run:                             \n",
       "    DODS_EXTRA.Unlimited_Dimension:  time"
      ]
     },
     "execution_count": 2,
     "metadata": {},
     "output_type": "execute_result"
    }
   ],
   "source": [
    "cat = rompy.cat\n",
    "model_ds = cat.csiro.swan.swan_perth_fc.map(fcdate='2021-02').to_dask()\n",
    "\n",
    "x = model_ds.longitude.values\n",
    "y = model_ds.latitude.values \n",
    "xx,yy = np.meshgrid(x,y)\n",
    "points = MultiPoint(list(map(Point,zip(xx.ravel(),yy.ravel())))) \n",
    "geom = points.convex_hull.buffer(0.01).simplify(tolerance=0.01)\n",
    "df=cat.aodn.nrt_wave_buoys(startdt='2021-02',enddt='2021-04',geom=geom.to_wkt()).read()\n",
    "obs = df[['TIME','LATITUDE','LONGITUDE','WHTH']]\n",
    "obs['TIME'] =  pd.to_datetime(obs['TIME'])\n",
    "model_ds"
   ]
  },
  {
   "cell_type": "code",
   "execution_count": 3,
   "id": "multiple-reset",
   "metadata": {},
   "outputs": [
    {
     "data": {
      "text/html": [
       "<div>\n",
       "<style scoped>\n",
       "    .dataframe tbody tr th:only-of-type {\n",
       "        vertical-align: middle;\n",
       "    }\n",
       "\n",
       "    .dataframe tbody tr th {\n",
       "        vertical-align: top;\n",
       "    }\n",
       "\n",
       "    .dataframe thead th {\n",
       "        text-align: right;\n",
       "    }\n",
       "</style>\n",
       "<table border=\"1\" class=\"dataframe\">\n",
       "  <thead>\n",
       "    <tr style=\"text-align: right;\">\n",
       "      <th></th>\n",
       "      <th>TIME</th>\n",
       "      <th>LATITUDE</th>\n",
       "      <th>LONGITUDE</th>\n",
       "      <th>WHTH</th>\n",
       "    </tr>\n",
       "  </thead>\n",
       "  <tbody>\n",
       "    <tr>\n",
       "      <th>0</th>\n",
       "      <td>2021-02-01 00:00:00</td>\n",
       "      <td>-32.10</td>\n",
       "      <td>115.40</td>\n",
       "      <td>1.91</td>\n",
       "    </tr>\n",
       "    <tr>\n",
       "      <th>1</th>\n",
       "      <td>2021-02-01 15:00:00</td>\n",
       "      <td>-32.10</td>\n",
       "      <td>115.40</td>\n",
       "      <td>1.44</td>\n",
       "    </tr>\n",
       "    <tr>\n",
       "      <th>2</th>\n",
       "      <td>2021-02-01 18:00:00</td>\n",
       "      <td>-32.10</td>\n",
       "      <td>115.40</td>\n",
       "      <td>1.43</td>\n",
       "    </tr>\n",
       "    <tr>\n",
       "      <th>3</th>\n",
       "      <td>2021-02-02 06:00:00</td>\n",
       "      <td>-32.10</td>\n",
       "      <td>115.40</td>\n",
       "      <td>1.32</td>\n",
       "    </tr>\n",
       "    <tr>\n",
       "      <th>4</th>\n",
       "      <td>2021-02-02 09:00:00</td>\n",
       "      <td>-32.10</td>\n",
       "      <td>115.40</td>\n",
       "      <td>1.36</td>\n",
       "    </tr>\n",
       "    <tr>\n",
       "      <th>...</th>\n",
       "      <td>...</td>\n",
       "      <td>...</td>\n",
       "      <td>...</td>\n",
       "      <td>...</td>\n",
       "    </tr>\n",
       "    <tr>\n",
       "      <th>393</th>\n",
       "      <td>2021-03-25 06:00:00</td>\n",
       "      <td>-32.45</td>\n",
       "      <td>115.57</td>\n",
       "      <td>0.92</td>\n",
       "    </tr>\n",
       "    <tr>\n",
       "      <th>394</th>\n",
       "      <td>2021-03-25 12:00:00</td>\n",
       "      <td>-32.45</td>\n",
       "      <td>115.57</td>\n",
       "      <td>1.02</td>\n",
       "    </tr>\n",
       "    <tr>\n",
       "      <th>395</th>\n",
       "      <td>2021-03-25 15:00:00</td>\n",
       "      <td>-32.45</td>\n",
       "      <td>115.57</td>\n",
       "      <td>1.08</td>\n",
       "    </tr>\n",
       "    <tr>\n",
       "      <th>396</th>\n",
       "      <td>2021-03-29 06:00:00</td>\n",
       "      <td>-32.45</td>\n",
       "      <td>115.57</td>\n",
       "      <td>1.26</td>\n",
       "    </tr>\n",
       "    <tr>\n",
       "      <th>397</th>\n",
       "      <td>2021-03-30 21:00:00</td>\n",
       "      <td>-32.45</td>\n",
       "      <td>115.57</td>\n",
       "      <td>1.43</td>\n",
       "    </tr>\n",
       "  </tbody>\n",
       "</table>\n",
       "<p>398 rows × 4 columns</p>\n",
       "</div>"
      ],
      "text/plain": [
       "                   TIME  LATITUDE  LONGITUDE  WHTH\n",
       "0   2021-02-01 00:00:00    -32.10     115.40  1.91\n",
       "1   2021-02-01 15:00:00    -32.10     115.40  1.44\n",
       "2   2021-02-01 18:00:00    -32.10     115.40  1.43\n",
       "3   2021-02-02 06:00:00    -32.10     115.40  1.32\n",
       "4   2021-02-02 09:00:00    -32.10     115.40  1.36\n",
       "..                  ...       ...        ...   ...\n",
       "393 2021-03-25 06:00:00    -32.45     115.57  0.92\n",
       "394 2021-03-25 12:00:00    -32.45     115.57  1.02\n",
       "395 2021-03-25 15:00:00    -32.45     115.57  1.08\n",
       "396 2021-03-29 06:00:00    -32.45     115.57  1.26\n",
       "397 2021-03-30 21:00:00    -32.45     115.57  1.43\n",
       "\n",
       "[398 rows x 4 columns]"
      ]
     },
     "execution_count": 3,
     "metadata": {},
     "output_type": "execute_result"
    }
   ],
   "source": [
    "obs"
   ]
  },
  {
   "cell_type": "code",
   "execution_count": 4,
   "id": "figured-melbourne",
   "metadata": {},
   "outputs": [
    {
     "data": {
      "text/html": [
       "<pre>&lt;xarray.Dataset&gt;\n",
       "Dimensions:          (observation: 38)\n",
       "Coordinates:\n",
       "    time             (observation) datetime64[ns] 2021-02-01 ... 2021-02-05T2...\n",
       "    longitude        (observation) float32 115.4 115.4 115.4 ... 115.6 115.6\n",
       "    latitude         (observation) float32 -32.1 -32.1 -32.1 ... -32.45 -32.45\n",
       "Dimensions without coordinates: observation\n",
       "Data variables:\n",
       "    meas_time        (observation) datetime64[ns] 2021-02-01 ... 2021-02-05T2...\n",
       "    meas_longitude   (observation) float64 115.4 115.4 115.4 ... 115.6 115.6\n",
       "    meas_latitude    (observation) float64 -32.1 -32.1 -32.1 ... -32.45 -32.45\n",
       "    meas_whth        (observation) float64 1.91 1.44 1.43 1.32 ... 1.3 1.26 1.31\n",
       "    model_hs         (observation) float32 1.922 1.919 1.83 ... 1.469 1.547\n",
       "    model_time       (observation) datetime64[ns] 2021-02-01 ... 2021-02-05T2...\n",
       "    model_longitude  (observation) float32 115.4 115.4 115.4 ... 115.6 115.6\n",
       "    model_latitude   (observation) float32 -32.1 -32.1 -32.1 ... -32.45 -32.45\n",
       "    dist             (observation) float64 0.003217 0.003217 ... 0.002341\n",
       "Attributes:\n",
       "    grid:     regular</pre>"
      ],
      "text/plain": [
       "<xarray.Dataset>\n",
       "Dimensions:          (observation: 38)\n",
       "Coordinates:\n",
       "    time             (observation) datetime64[ns] 2021-02-01 ... 2021-02-05T2...\n",
       "    longitude        (observation) float32 115.4 115.4 115.4 ... 115.6 115.6\n",
       "    latitude         (observation) float32 -32.1 -32.1 -32.1 ... -32.45 -32.45\n",
       "Dimensions without coordinates: observation\n",
       "Data variables:\n",
       "    meas_time        (observation) datetime64[ns] 2021-02-01 ... 2021-02-05T2...\n",
       "    meas_longitude   (observation) float64 115.4 115.4 115.4 ... 115.6 115.6\n",
       "    meas_latitude    (observation) float64 -32.1 -32.1 -32.1 ... -32.45 -32.45\n",
       "    meas_whth        (observation) float64 1.91 1.44 1.43 1.32 ... 1.3 1.26 1.31\n",
       "    model_hs         (observation) float32 1.922 1.919 1.83 ... 1.469 1.547\n",
       "    model_time       (observation) datetime64[ns] 2021-02-01 ... 2021-02-05T2...\n",
       "    model_longitude  (observation) float32 115.4 115.4 115.4 ... 115.6 115.6\n",
       "    model_latitude   (observation) float32 -32.1 -32.1 -32.1 ... -32.45 -32.45\n",
       "    dist             (observation) float64 0.003217 0.003217 ... 0.002341\n",
       "Attributes:\n",
       "    grid:     regular"
      ]
     },
     "execution_count": 4,
     "metadata": {},
     "output_type": "execute_result"
    }
   ],
   "source": [
    "out_ds = rompy.utils.find_matchup_data(obs,model_ds,{'WHTH':'hs'},time_thresh=None,KDtree_kwargs={})\n",
    "out_ds"
   ]
  },
  {
   "cell_type": "code",
   "execution_count": 5,
   "id": "basic-saskatchewan",
   "metadata": {},
   "outputs": [
    {
     "data": {
      "text/plain": [
       "Text(0.5, 1.0, 'Hs')"
      ]
     },
     "execution_count": 5,
     "metadata": {},
     "output_type": "execute_result"
    },
    {
     "data": {
      "image/png": "[encoded data removed]",
      "text/plain": [
       "<Figure size 864x576 with 1 Axes>"
      ]
     },
     "metadata": {
      "needs_background": "light"
     },
     "output_type": "display_data"
    }
   ],
   "source": [
    "fig, ax  = plt.subplots(figsize=(12,8))\n",
    "\n",
    "ax.scatter(out_ds['model_hs'],out_ds['meas_whth'])\n",
    "ax.plot([0,3],[0,3],ls='--',c='#252525')\n",
    "ax.set_ylim(0,2.5)\n",
    "ax.set_xlim(0,2.5)\n",
    "ax.set_xlabel('Model')\n",
    "ax.set_ylabel('Measured')\n",
    "ax.set_title('Hs')"
   ]
  }
 ],
 "metadata": {
  "kernelspec": {
   "display_name": "Python 3 (ipykernel)",
   "language": "python",
   "name": "python3"
  },
  "language_info": {
   "codemirror_mode": {
    "name": "ipython",
    "version": 3
   },
   "file_extension": ".py",
   "mimetype": "text/x-python",
   "name": "python",
   "nbconvert_exporter": "python",
   "pygments_lexer": "ipython3",
   "version": "3.8.12"
  }
 },
 "nbformat": 4,
 "nbformat_minor": 5
}
