{
 "cells": [
  {
   "cell_type": "markdown",
   "id": "federal-correction",
   "metadata": {},
   "source": [
    "# Developing match up function v2\n",
    "\n",
    "- Should work on altimetry & waveriders!"
   ]
  },
  {
   "cell_type": "code",
   "execution_count": 1,
   "id": "otherwise-parks",
   "metadata": {},
   "outputs": [
    {
     "data": {
      "text/plain": [
       "<xarray.core.options.set_options at 0x7f3136fd9d00>"
      ]
     },
     "execution_count": 1,
     "metadata": {},
     "output_type": "execute_result"
    }
   ],
   "source": [
    "import xarray as xr\n",
    "import numpy as np\n",
    "import matplotlib.pyplot as plt\n",
    "import rompy\n",
    "from shapely.geometry import MultiPoint,Point\n",
    "%matplotlib inline\n",
    "\n",
    "xr.set_options(display_style = 'text')"
   ]
  },
  {
   "cell_type": "code",
   "execution_count": 2,
   "id": "final-australia",
   "metadata": {},
   "outputs": [
    {
     "data": {
      "text/html": [
       "<pre>&lt;xarray.Dataset&gt;\n",
       "Dimensions:    (time: 121, longitude: 160, latitude: 300)\n",
       "Coordinates:\n",
       "  * time       (time) datetime64[ns] 2020-12-21 ... 2020-12-26\n",
       "  * longitude  (longitude) float32 115.0 115.0 115.0 115.0 ... 115.8 115.8 115.8\n",
       "  * latitude   (latitude) float32 -33.0 -32.99 -32.99 ... -31.51 -31.51 -31.5\n",
       "Data variables:\n",
       "    depth      (time, latitude, longitude) float32 dask.array&lt;chunksize=(24, 300, 160), meta=np.ndarray&gt;\n",
       "    ubot       (time, latitude, longitude) float32 dask.array&lt;chunksize=(24, 300, 160), meta=np.ndarray&gt;\n",
       "    hs         (time, latitude, longitude) float32 dask.array&lt;chunksize=(24, 300, 160), meta=np.ndarray&gt;\n",
       "    hswe       (time, latitude, longitude) float32 dask.array&lt;chunksize=(24, 300, 160), meta=np.ndarray&gt;\n",
       "    theta0     (time, latitude, longitude) float32 dask.array&lt;chunksize=(24, 300, 160), meta=np.ndarray&gt;\n",
       "    tps        (time, latitude, longitude) float32 dask.array&lt;chunksize=(24, 300, 160), meta=np.ndarray&gt;\n",
       "    tm01       (time, latitude, longitude) float32 dask.array&lt;chunksize=(24, 300, 160), meta=np.ndarray&gt;\n",
       "    xwnd       (time, latitude, longitude) float32 dask.array&lt;chunksize=(24, 300, 160), meta=np.ndarray&gt;\n",
       "    ywnd       (time, latitude, longitude) float32 dask.array&lt;chunksize=(24, 300, 160), meta=np.ndarray&gt;\n",
       "Attributes:\n",
       "    Conventions:                     CF-1.5\n",
       "    History:                         Created with agioncmd version 1.5\n",
       "    Directional_convention:          nautical\n",
       "    project:                         SWAN\n",
       "    run:                             \n",
       "    DODS_EXTRA.Unlimited_Dimension:  time</pre>"
      ],
      "text/plain": [
       "<xarray.Dataset>\n",
       "Dimensions:    (time: 121, longitude: 160, latitude: 300)\n",
       "Coordinates:\n",
       "  * time       (time) datetime64[ns] 2020-12-21 ... 2020-12-26\n",
       "  * longitude  (longitude) float32 115.0 115.0 115.0 115.0 ... 115.8 115.8 115.8\n",
       "  * latitude   (latitude) float32 -33.0 -32.99 -32.99 ... -31.51 -31.51 -31.5\n",
       "Data variables:\n",
       "    depth      (time, latitude, longitude) float32 dask.array<chunksize=(24, 300, 160), meta=np.ndarray>\n",
       "    ubot       (time, latitude, longitude) float32 dask.array<chunksize=(24, 300, 160), meta=np.ndarray>\n",
       "    hs         (time, latitude, longitude) float32 dask.array<chunksize=(24, 300, 160), meta=np.ndarray>\n",
       "    hswe       (time, latitude, longitude) float32 dask.array<chunksize=(24, 300, 160), meta=np.ndarray>\n",
       "    theta0     (time, latitude, longitude) float32 dask.array<chunksize=(24, 300, 160), meta=np.ndarray>\n",
       "    tps        (time, latitude, longitude) float32 dask.array<chunksize=(24, 300, 160), meta=np.ndarray>\n",
       "    tm01       (time, latitude, longitude) float32 dask.array<chunksize=(24, 300, 160), meta=np.ndarray>\n",
       "    xwnd       (time, latitude, longitude) float32 dask.array<chunksize=(24, 300, 160), meta=np.ndarray>\n",
       "    ywnd       (time, latitude, longitude) float32 dask.array<chunksize=(24, 300, 160), meta=np.ndarray>\n",
       "Attributes:\n",
       "    Conventions:                     CF-1.5\n",
       "    History:                         Created with agioncmd version 1.5\n",
       "    Directional_convention:          nautical\n",
       "    project:                         SWAN\n",
       "    run:                             \n",
       "    DODS_EXTRA.Unlimited_Dimension:  time"
      ]
     },
     "execution_count": 2,
     "metadata": {},
     "output_type": "execute_result"
    }
   ],
   "source": [
    "cat = rompy.cat\n",
    "model_ds = cat.csiro.swan.swan_perth_fc.map(fcdate='2020-12-21').to_dask()\n",
    "\n",
    "x = model_ds.longitude.values\n",
    "y = model_ds.latitude.values \n",
    "xx,yy = np.meshgrid(x,y)\n",
    "points = MultiPoint(list(map(Point,zip(xx.ravel(),yy.ravel())))) \n",
    "geom = points.convex_hull.buffer(0.01).simplify(tolerance=0.01)\n",
    "geom\n",
    "model_ds"
   ]
  },
  {
   "cell_type": "code",
   "execution_count": 3,
   "id": "raised-reason",
   "metadata": {},
   "outputs": [],
   "source": [
    "ds_alt=rompy.cat.aodn.nrt_wave_altimetry(startdt='2020-12-21',\n",
    "                                         enddt='2020-12-26',\n",
    "                                         geom=geom.to_wkt(),\n",
    "                                         ds_filters={'subset':{'data_vars':['SWH_C']},'sort':{'coords':['TIME']}}).to_dask()"
   ]
  },
  {
   "cell_type": "code",
   "execution_count": 4,
   "id": "successful-integrity",
   "metadata": {},
   "outputs": [
    {
     "data": {
      "text/html": [
       "<pre>&lt;xarray.Dataset&gt;\n",
       "Dimensions:          (observation: 46)\n",
       "Coordinates:\n",
       "    time             (observation) datetime64[ns] 2020-12-23T21:00:00 ... 202...\n",
       "    longitude        (observation) float32 115.0 115.0 115.1 ... 115.3 115.3\n",
       "    latitude         (observation) float32 -32.73 -32.78 -32.83 ... -32.94 -33.0\n",
       "Dimensions without coordinates: observation\n",
       "Data variables:\n",
       "    meas_swh_c       (observation) float32 1.272 0.938 1.346 ... nan nan nan\n",
       "    model_hs         (observation) float32 1.4 1.366 1.376 ... 1.708 1.667 1.595\n",
       "    model_time       (observation) datetime64[ns] 2020-12-23T21:00:00 ... 202...\n",
       "    model_longitude  (observation) float32 115.0 115.0 115.1 ... 115.3 115.3\n",
       "    model_latitude   (observation) float32 -32.73 -32.78 -32.83 ... -32.94 -33.0\n",
       "    dist             (observation) float64 0.001797 0.001888 ... 0.002313\n",
       "Attributes:\n",
       "    grid:     regular</pre>"
      ],
      "text/plain": [
       "<xarray.Dataset>\n",
       "Dimensions:          (observation: 46)\n",
       "Coordinates:\n",
       "    time             (observation) datetime64[ns] 2020-12-23T21:00:00 ... 202...\n",
       "    longitude        (observation) float32 115.0 115.0 115.1 ... 115.3 115.3\n",
       "    latitude         (observation) float32 -32.73 -32.78 -32.83 ... -32.94 -33.0\n",
       "Dimensions without coordinates: observation\n",
       "Data variables:\n",
       "    meas_swh_c       (observation) float32 1.272 0.938 1.346 ... nan nan nan\n",
       "    model_hs         (observation) float32 1.4 1.366 1.376 ... 1.708 1.667 1.595\n",
       "    model_time       (observation) datetime64[ns] 2020-12-23T21:00:00 ... 202...\n",
       "    model_longitude  (observation) float32 115.0 115.0 115.1 ... 115.3 115.3\n",
       "    model_latitude   (observation) float32 -32.73 -32.78 -32.83 ... -32.94 -33.0\n",
       "    dist             (observation) float64 0.001797 0.001888 ... 0.002313\n",
       "Attributes:\n",
       "    grid:     regular"
      ]
     },
     "execution_count": 4,
     "metadata": {},
     "output_type": "execute_result"
    }
   ],
   "source": [
    "out_ds = rompy.utils.find_matchup_data(ds_alt,model_ds,{'swh_c':'hs'},time_thresh=None,KDtree_kwargs={})\n",
    "out_ds"
   ]
  },
  {
   "cell_type": "code",
   "execution_count": 5,
   "id": "surprised-greene",
   "metadata": {},
   "outputs": [
    {
     "data": {
      "image/png": "[encoded data removed]",
      "text/plain": [
       "<Figure size 864x576 with 1 Axes>"
      ]
     },
     "metadata": {
      "needs_background": "light"
     },
     "output_type": "display_data"
    }
   ],
   "source": [
    "fig, ax  = plt.subplots(figsize=(12,8))\n",
    "\n",
    "ax.scatter(out_ds['model_hs'],out_ds['meas_swh_c'])\n",
    "ax.plot([0,3],[0,3],ls='--',c='#252525')\n",
    "ax.set_ylim(0,2.5)\n",
    "ax.set_xlim(0,2.5)\n",
    "ax.set_xlabel('Model')\n",
    "ax.set_ylabel('Measured')\n",
    "ax.set_title('Hs')\n",
    "ax.grid()"
   ]
  },
  {
   "cell_type": "code",
   "execution_count": null,
   "id": "floral-state",
   "metadata": {},
   "outputs": [],
   "source": []
  }
 ],
 "metadata": {
  "kernelspec": {
   "display_name": "Python 3 (ipykernel)",
   "language": "python",
   "name": "python3"
  },
  "language_info": {
   "codemirror_mode": {
    "name": "ipython",
    "version": 3
   },
   "file_extension": ".py",
   "mimetype": "text/x-python",
   "name": "python",
   "nbconvert_exporter": "python",
   "pygments_lexer": "ipython3",
   "version": "3.8.12"
  }
 },
 "nbformat": 4,
 "nbformat_minor": 5
}
